{
 "cells": [
  {
   "cell_type": "markdown",
   "source": [
    "## ดึงข้อมูลจาก Google Sheets API ผ่าน Python\n",
    "\n",
    "Ref: https://medium.com/@tongkornkitt/%E0%B8%94%E0%B8%B6%E0%B8%87%E0%B8%82%E0%B9%89%E0%B8%AD%E0%B8%A1%E0%B8%B9%E0%B8%A5%E0%B8%88%E0%B8%B2%E0%B8%81-google-sheets-api-%E0%B8%9C%E0%B9%88%E0%B8%B2%E0%B8%99-python-ffb5eb6764d6"
   ],
   "metadata": {
    "collapsed": false,
    "pycharm": {
     "name": "#%% md\n"
    }
   }
  },
  {
   "cell_type": "markdown",
   "source": [
    "STEP 0: Setup the Enable Google API to start the service"
   ],
   "metadata": {
    "collapsed": false,
    "pycharm": {
     "name": "#%% md\n"
    }
   }
  },
  {
   "cell_type": "markdown",
   "source": [
    "Follow this tutorial : https://app.tango.us/app/workflow/Untitled-Workflow-c2bbfb99ddbd4b00904c0435f0a4d367"
   ],
   "metadata": {
    "collapsed": false,
    "pycharm": {
     "name": "#%% md\n"
    }
   }
  },
  {
   "cell_type": "markdown",
   "source": [
    "STEP 1: install the packages"
   ],
   "metadata": {
    "collapsed": false,
    "pycharm": {
     "name": "#%% md\n"
    }
   }
  },
  {
   "cell_type": "code",
   "execution_count": null,
   "outputs": [],
   "source": [
    "!pip install --upgrade oauth2client PyOpenSSL gspread"
   ],
   "metadata": {
    "collapsed": false,
    "pycharm": {
     "name": "#%%\n"
    }
   }
  },
  {
   "cell_type": "markdown",
   "source": [
    "STEP 2: get the sheet ID"
   ],
   "metadata": {
    "collapsed": false,
    "pycharm": {
     "name": "#%% md\n"
    }
   }
  },
  {
   "cell_type": "markdown",
   "source": [
    "1. go to the google sheet\n",
    "2. click the share\n",
    "3. copy the link"
   ],
   "metadata": {
    "collapsed": false,
    "pycharm": {
     "name": "#%% md\n"
    }
   }
  },
  {
   "cell_type": "markdown",
   "source": [
    "you will get the link like this : https://docs.google.com/spreadsheets/d/1saNLhL2LwLxZTf2NXCKpuM3ng-MO8sZxa83TI-2CgBs/edit?usp=sharing\n",
    "\n",
    "after /d/ is your ID: \n",
    "\n",
    "**1saNLhL2LwLxZTf2NXCKpuM3ng-MO8sZxa83TI-2CgBs**"
   ],
   "metadata": {
    "collapsed": false,
    "pycharm": {
     "name": "#%% md\n"
    }
   }
  },
  {
   "cell_type": "markdown",
   "source": [
    "STEP 3: Enable google sheet API"
   ],
   "metadata": {
    "collapsed": false,
    "pycharm": {
     "name": "#%% md\n"
    }
   }
  },
  {
   "cell_type": "code",
   "execution_count": null,
   "outputs": [],
   "source": [
    "from oauth2client.service_account import ServiceAccountCredentials\n",
    "import gspread\n",
    "\n",
    "# 1. for read-only access, use this line\n",
    "# scope = [“https://www.googleapis.com/auth/spreadsheets.readonly”] \n",
    "# 2. for read-and-write access, use this line\n",
    "scope = [\"https://www.googleapis.com/auth/spreadsheets\"] \n",
    "\n",
    "# Use the Credential That we got from google in this step\n",
    "credentials = ServiceAccountCredentials.from_json_keyfile_name(\"./credentials.json\", scope)\n",
    "gc = gspread.authorize(credentials)\n",
    "\n",
    "# Put the google sheet sharing URL here \n",
    "# Such as: https://docs.google.com/spreadsheets/d/1saNLhL2LwLxZTf2NXCKpuM3ng-MO8sZxa83TI-2CgBs/edit?usp=sharing\n",
    "sheet = gc.open_by_url(\"<<Put URL here>>\")\n",
    "worksheet = sheet.get_worksheet(0) # sheet index in spreadsheets"
   ],
   "metadata": {
    "collapsed": false,
    "pycharm": {
     "name": "#%%\n"
    }
   }
  },
  {
   "cell_type": "markdown",
   "source": [
    "STEP 4: READ & WRITE file in google sheet"
   ],
   "metadata": {
    "collapsed": false,
    "pycharm": {
     "name": "#%% md\n"
    }
   }
  },
  {
   "cell_type": "markdown",
   "source": [
    "- read file in google sheet"
   ],
   "metadata": {
    "collapsed": false,
    "pycharm": {
     "name": "#%% md\n"
    }
   }
  },
  {
   "cell_type": "code",
   "execution_count": null,
   "outputs": [],
   "source": [
    "import pandas as pd\n",
    "\n",
    "# get all values in the google sheet\n",
    "values = worksheet.get_all_values() \n",
    "\n",
    "# change the format to become easier to manipulate with pandas\n",
    "read_df = pd.DataFrame(values[1:], columns=values[0])"
   ],
   "metadata": {
    "collapsed": false,
    "pycharm": {
     "name": "#%%\n"
    }
   }
  },
  {
   "cell_type": "markdown",
   "source": [
    "- WRITE file in google sheet"
   ],
   "metadata": {
    "collapsed": false,
    "pycharm": {
     "name": "#%% md\n"
    }
   }
  },
  {
   "cell_type": "code",
   "execution_count": null,
   "outputs": [],
   "source": [
    "# 1. update by column ( a, b, c ) just only 1\n",
    "worksheet.update_acell('A2', 'Paopow')\n",
    "\n",
    "# 2. update by the position of the cell\n",
    "worksheet.update_cell(2,2, 'another approach')\n",
    "\n",
    "# 3. update by multiple cells\n",
    "worksheet.update('A3:A5', [['Hoho'], ['Hoho2'], ['Hoho3']])"
   ],
   "metadata": {
    "collapsed": false,
    "pycharm": {
     "name": "#%%\n"
    }
   }
  }
 ],
 "metadata": {
  "colab": {
   "provenance": []
  },
  "kernelspec": {
   "display_name": "Python 3 (ipykernel)",
   "language": "python",
   "name": "python3"
  },
  "language_info": {
   "codemirror_mode": {
    "name": "ipython",
    "version": 3
   },
   "file_extension": ".py",
   "mimetype": "text/x-python",
   "name": "python",
   "nbconvert_exporter": "python",
   "pygments_lexer": "ipython3",
   "version": "3.8.9"
  }
 },
 "nbformat": 4,
 "nbformat_minor": 1
}